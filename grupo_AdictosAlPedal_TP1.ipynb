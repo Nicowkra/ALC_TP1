{
 "cells": [
  {
   "attachments": {},
   "cell_type": "markdown",
   "id": "5c0cbb93-2880-4750-975d-11cce9f6b12c",
   "metadata": {},
   "source": [
    "# Trabajo Práctico 1 - Matrices de Insumo Producto\n",
    "\n",
    "## Enunciado"
   ]
  },
  {
   "cell_type": "markdown",
   "id": "11f7face-a325-4e30-b13e-0c3d84280c5e",
   "metadata": {},
   "source": [
    "### Consigna 1 - Analizar que sucede con la solución del sistema $p=(I-A)^{-1}d=Ld$"
   ]
  },
  {
   "cell_type": "markdown",
   "id": "e69c407d-9132-421c-8d02-508da3bb3ae6",
   "metadata": {},
   "source": [
    "Esta ecuación vemos que representa una economía cerrada, ya que no aparece la demanda externa en la ecuación. Ademas, sabemos que la matriz (I-A), matriz de Leontief muestra como el cambio en demanda final modifica o afecta los valores de producción y demanda de insumos. \n",
    "\n",
    "(I-A) inversible $\\rightarrow$ Si la matriz es singular, podemos decir que las columnas o filas son linealmente independientes, es decir que no hay un sector que sea combinacion lineal de otro. Existe unica solución (Sistema Compatible Determinado) que permite calcular el efecto total en la economía de un cambio en la demanda final. \n",
    "\n",
    "(I-A) inversible y d=0 $\\rightarrow$ Si mi demanda interna es cero, mi produccion sera cero, ya que no tengo una demanda para satisfacer.\n",
    "\n",
    "(I-A) no inversible $\\rightarrow$ Que la matriz sea singular significa que sus columnas o filas no son linealmente independientes entre si. Esto podria indicar que algun sector o varios sectores son combinacion lineal de otros sectores, que el sistema está mal condicionado, o que algunos sectores dependen completamente de otros. Ademas, no tengo una unica solucion a mi sistema, pudiendo ser compatible indeterminado o incompatible. No se muy bien como cambia la economia con una modificacion en la demanda.\n",
    "\n",
    "(I-A) no inversible y b=0 $\\rightarrow$ Si bien no tengo una unica solucion al sistema, pudiendo ser compatible indeterminado o incompatible, podria ser cualquiera de los dos. Todos los sectores estarian inactivos porque no hay demanda final que satisfacer y ademas los sectores son dependientes entre si"
   ]
  },
  {
   "cell_type": "markdown",
   "id": "6ea60699-4c07-40fb-8f71-ec4cacf32708",
   "metadata": {},
   "source": [
    "### Consigna 2 -  "
   ]
  },
  {
   "cell_type": "code",
   "execution_count": 5,
   "id": "260b913f-d6d3-47b8-9431-7a64d6d037a5",
   "metadata": {},
   "outputs": [],
   "source": [
    "import funciones as f"
   ]
  },
  {
   "cell_type": "markdown",
   "id": "b6527567-ea14-4fb0-8cbb-3faa67fee8c1",
   "metadata": {},
   "source": [
    "---"
   ]
  },
  {
   "cell_type": "code",
   "execution_count": null,
   "id": "07f69bd8-9a22-4fa0-8e69-7e2580e80459",
   "metadata": {},
   "outputs": [],
   "source": []
  },
  {
   "cell_type": "markdown",
   "id": "c425856e",
   "metadata": {},
   "source": [
    "### Consigna 6 - \n",
    "Partimos del siguiente sistema que sabemos que es valido:\n",
    "\n",
    "$$\n",
    "    \\left( \n",
    "    \\begin{pmatrix}\n",
    "    I_{n \\times n} & 0_{n \\times m} \\\\\n",
    "    0_{m \\times n} & I_{m \\times m}\n",
    "    \\end{pmatrix} \n",
    "    -\n",
    "    \\begin{pmatrix}\n",
    "    A^{rr} & A^{rs} \\\\\n",
    "    A^{sr} & A^{ss}\n",
    "    \\end{pmatrix}\n",
    "    \\right)\n",
    "    \\begin{pmatrix}\n",
    "    p^{r} \\\\\n",
    "    p^{s}\n",
    "    \\end{pmatrix}\n",
    "    =\n",
    "    \\begin{pmatrix}\n",
    "    d^{r} \\\\\n",
    "    d^{s}\n",
    "    \\end{pmatrix}\n",
    "$$\n",
    "\n",
    "\\begin{equation} \n",
    "    \\begin{pmatrix}\n",
    "    I_{n \\times n} - A^{rr} & - A^{rs} \\\\\n",
    "    - A^{sr} & I_{m \\times m} - A^{ss}\n",
    "    \\end{pmatrix} \n",
    "    \\begin{pmatrix}\n",
    "    p^{r} \\\\\n",
    "    p^{s}\n",
    "    \\end{pmatrix}\n",
    "    =\n",
    "    \\begin{pmatrix}\n",
    "    d^{r} \\\\\n",
    "    d^{s}\n",
    "    \\end{pmatrix}\n",
    "\\end{equation}\n",
    "\n",
    "Veamos como varia la produccion($\\triangle$ p) al efectuar una variacion en la demanda ($\\triangle$ d)\n",
    "\n",
    "$$\n",
    "    \\begin{pmatrix}\n",
    "    I_{n \\times n} - A^{rr} & - A^{rs} \\\\\n",
    "    - A^{sr} & I_{m \\times m} - A^{ss}\n",
    "    \\end{pmatrix} \n",
    "    \\begin{pmatrix}\n",
    "    p^{r} + \\triangle p^{r} \\\\\n",
    "    p^{s} + \\triangle p^{s}\n",
    "    \\end{pmatrix}\n",
    "    =\n",
    "    \\begin{pmatrix}\n",
    "    d^{r} + \\triangle d^{r}\\\\\n",
    "    d^{s} + \\triangle d^{s}\n",
    "    \\end{pmatrix}\n",
    "$$   \n",
    "\n",
    "Desarrollamos la ecuacion para obtener una expresion equivalente:\n",
    "\n",
    "$$\n",
    "    \\begin{pmatrix}\n",
    "    I_{n \\times n} - A^{rr} & - A^{rs} \\\\\n",
    "    - A^{sr} & I_{m \\times m} - A^{ss}\n",
    "    \\end{pmatrix} \n",
    "    \\begin{pmatrix}\n",
    "    p^{r} \\\\\n",
    "    p^{s}\n",
    "    \\end{pmatrix}\n",
    "    +\n",
    "    \\begin{pmatrix}\n",
    "    I_{n \\times n} - A^{rr} & - A^{rs} \\\\\n",
    "    - A^{sr} & I_{m \\times m} - A^{ss}\n",
    "    \\end{pmatrix} \n",
    "    \\begin{pmatrix}\n",
    "    \\triangle p^{r} \\\\\n",
    "    \\triangle p^{s}\n",
    "    \\end{pmatrix}\n",
    "    =\n",
    "    \\begin{pmatrix}\n",
    "    d^{r}\\\\\n",
    "    d^{s}\n",
    "    \\end{pmatrix}\n",
    "    +\n",
    "    \\begin{pmatrix}\n",
    "    \\triangle d^{r}\\\\\n",
    "    \\triangle d^{s}\n",
    "    \\end{pmatrix}\n",
    "$$ \n",
    "\n",
    "Como sabemos que la ecuacion(1) es siempre valida, se la restamos a esta ultima expresion que conseguimos para poder simplificarla\n",
    "\n",
    "$$\n",
    "    \\begin{pmatrix}\n",
    "    I_{n \\times n} - A^{rr} & - A^{rs} \\\\\n",
    "    - A^{sr} & I_{m \\times m} - A^{ss}\n",
    "    \\end{pmatrix} \n",
    "    \\begin{pmatrix}\n",
    "    \\triangle p^{r} \\\\\n",
    "    \\triangle p^{s}\n",
    "    \\end{pmatrix}\n",
    "    =\n",
    "    \\begin{pmatrix}\n",
    "    \\triangle d^{r}\\\\\n",
    "    \\triangle d^{s}\n",
    "    \\end{pmatrix}\n",
    "$$ \n",
    "\n",
    "Recordando que en el enunciado nos dicen que tomemos $\\triangle d^{s} = 0$, obtenemos entonces el siguiente sistema de ecuaciones \n",
    "$$\n",
    "\\left\\{\n",
    "\\begin{array}{l}\n",
    "(I - A^{rr}) \\triangle p^{r} - A^{rs} \\triangle p^{s} = \\triangle d^{r} (1)\\\\\n",
    "-A^{sr} p^{r} + (I - A^{ss}) \\triangle p^{s} = 0 (2)\n",
    "\\end{array}\n",
    "\\right.\n",
    "$$\n",
    "\n",
    "De la ecuacion (2) despejamos $\\triangle p^{s}$\n",
    "\n",
    "$$\n",
    "\\triangle p^{s} = (I - A^{ss})^{-1}A^{sr} p^{r}\n",
    "$$\n",
    "\n",
    "Reemplazamos $\\triangle p^{s}$ en la ecuacion (1) y despejamos $\\triangle p^{r}$\n",
    "\n",
    "$$\n",
    "\\begin{aligned}\n",
    "(I - A^{(rr)}) \\triangle p^{(r)} - A^{(rs)}(I - A^{(ss)})^{-1}A^{(sr)} \\triangle p^{(r)} &= \\triangle d^{(r)} \\\\\n",
    "(I - A^{(rr)} - A^{(rs)}(I - A^{(ss)})^{-1} A^{(sr)}) \\triangle p^{(r)} &= \\triangle d^{(r)} \\\\\n",
    "\\triangle p^{(r)} &= (I - A^{(rr)} - A^{(rs)}(I - A^{(ss)})^{-1} A^{(sr)})^{-1} \\triangle d^{(r)}\n",
    "\\end{aligned}\n",
    "$$\n",
    "\n",
    "\n"
   ]
  },
  {
   "cell_type": "markdown",
   "id": "19403a3c-422b-4bdb-85b3-058b90560067",
   "metadata": {},
   "source": [
    "---"
   ]
  },
  {
   "cell_type": "markdown",
   "id": "28b50883-236a-44de-b3f3-4a057123f51f",
   "metadata": {},
   "source": [
    "### Consigna 7 -"
   ]
  },
  {
   "cell_type": "markdown",
   "id": "e7817a5c-f774-4e0d-a4cf-e4150e13aaef",
   "metadata": {},
   "source": [
    "- Generamos la matriz Insumo-Producto de Paraguay y Nicaragua:"
   ]
  },
  {
   "cell_type": "code",
   "execution_count": 11,
   "id": "dd2b0704-8a93-4245-aa36-19b3b27f664f",
   "metadata": {},
   "outputs": [
    {
     "name": "stdout",
     "output_type": "stream",
     "text": [
      "               PRYs1     PRYs2     PRYs3     PRYs4        PRYs5       PRYs6  \\\n",
      "Sectores                                                                      \n",
      "PRYs1     227.254284  0.000000  0.000000  0.000000  1101.674356  402.694816   \n",
      "PRYs2       0.000000  0.101057  0.000000  0.000000     0.000000    0.000000   \n",
      "PRYs3       0.000000  0.000000  0.000001  0.000000     0.000000    0.000000   \n",
      "PRYs4       0.000000  0.000000  0.000000  1.130093     0.000000    0.000000   \n",
      "PRYs5       0.000000  0.000000  0.000000  0.000000    42.572816    4.968356   \n",
      "...              ...       ...       ...       ...          ...         ...   \n",
      "NICs36      0.000000  0.000000  0.000000  0.000000     0.000000    0.000000   \n",
      "NICs37      0.000000  0.000000  0.000000  0.000000     0.000000    0.000000   \n",
      "NICs38      0.000000  0.000000  0.000000  0.000000     0.000000    0.000000   \n",
      "NICs39      0.000000  0.000000  0.000000  0.000000     0.000000    0.000000   \n",
      "NICs40      0.000000  0.000000  0.000000  0.000000     0.000000    0.000000   \n",
      "\n",
      "              PRYs7       PRYs8       PRYs9    PRYs10  ...  NICs31    NICs32  \\\n",
      "Sectores                                               ...                     \n",
      "PRYs1     29.580976  821.173639  164.389296  4.524589  ...     0.0  0.000000   \n",
      "PRYs2      0.000000    0.000000    0.000000  0.000000  ...     0.0  0.000000   \n",
      "PRYs3      0.000000    0.000000    0.000000  0.000000  ...     0.0  0.000000   \n",
      "PRYs4      0.000000    0.000000    0.000000  0.000000  ...     0.0  0.000000   \n",
      "PRYs5      0.000000   17.733686    0.000000  0.000000  ...     0.0  0.000000   \n",
      "...             ...         ...         ...       ...  ...     ...       ...   \n",
      "NICs36     0.000000    0.000000    0.000000  0.000000  ...     0.0  0.070910   \n",
      "NICs37     0.000000    0.000000    0.000000  0.000000  ...     0.0  0.443584   \n",
      "NICs38     0.000000    0.000000    0.000000  0.000000  ...     0.0  1.176243   \n",
      "NICs39     0.000000    0.000000    0.000000  0.000000  ...     0.0  0.700396   \n",
      "NICs40     0.000000    0.000000    0.000000  0.000000  ...     0.0  3.869818   \n",
      "\n",
      "            NICs33     NICs34     NICs35     NICs36     NICs37     NICs38  \\\n",
      "Sectores                                                                    \n",
      "PRYs1     0.000000   0.000000   0.000000   0.000000   0.000000   0.000000   \n",
      "PRYs2     0.000000   0.000000   0.000000   0.000000   0.000000   0.000000   \n",
      "PRYs3     0.000000   0.000000   0.000000   0.000000   0.000000   0.000000   \n",
      "PRYs4     0.000000   0.000000   0.000000   0.000000   0.000000   0.000000   \n",
      "PRYs5     0.000000   0.000000   0.000000   0.000000   0.000000   0.000000   \n",
      "...            ...        ...        ...        ...        ...        ...   \n",
      "NICs36    0.070123   1.889266  92.118246   3.849817   2.329597   9.287091   \n",
      "NICs37    0.153783   1.613792   1.169620   8.193666  53.911819   8.896415   \n",
      "NICs38    0.695838   7.392841  18.109905  19.247584   5.599573  79.819134   \n",
      "NICs39    0.356528  19.126470  68.780398   9.217161  40.190914  58.219599   \n",
      "NICs40    1.881395  33.689728  67.945291  79.079347  11.079958  32.863552   \n",
      "\n",
      "             NICs39      NICs40  \n",
      "Sectores                         \n",
      "PRYs1      0.000000    0.000000  \n",
      "PRYs2      0.000000    0.000000  \n",
      "PRYs3      0.000000    0.000000  \n",
      "PRYs4      0.000000    0.000000  \n",
      "PRYs5      0.000000    0.000000  \n",
      "...             ...         ...  \n",
      "NICs36     4.889133   68.153398  \n",
      "NICs37     7.251069   41.721430  \n",
      "NICs38    32.555134  158.727271  \n",
      "NICs39    14.496966  229.588422  \n",
      "NICs40    20.709862  266.493913  \n",
      "\n",
      "[80 rows x 80 columns]\n"
     ]
    }
   ],
   "source": [
    "import pandas as pd \n",
    "import numpy as np\n",
    "import scipy.linalg as sc\n",
    "\n",
    "matriz = pd.read_excel(\"matriz.xlsx\", sheet_name =\"LAC_IOT_2011\",)\n",
    "Nic_col = []    \n",
    "Pry_col = []\n",
    "for i in range(1,41): #Crea la lista de columnas a filtrar\n",
    "    Nic_col.append('NICs'+str(i))\n",
    "    Pry_col.append('PRYs'+str(i))\n",
    "    \n",
    "Pry = matriz[matriz[\"Country_iso3\"] == \"PRY\"] # Crea la tabla con filas de PRY\n",
    "Nic = matriz[matriz[\"Country_iso3\"] == \"NIC\"] # Crea la tabla con filas de NIC\n",
    "\n",
    "\n",
    "# Crea matrices intra-regionales\n",
    "Pry_int= Pry.loc[:,Pry_col] \n",
    "Nic_int = Nic.loc[:,Nic_col] \n",
    "\n",
    "#Crea matrices intre-regionales\n",
    "Nic_ext = Nic.loc[:,Pry_col] \n",
    "Pry_ext = Pry.loc[:,Nic_col]\n",
    "\n",
    "#Columna con los nombres de los sectores para despues mantener los indices\n",
    "colnames = pd.DataFrame({'Sectores':Pry_col + Nic_col})\n",
    "colnamesPry = pd.DataFrame({'Sectores':Pry_col})\n",
    "colnamesNic = pd.DataFrame({'Sectores':Nic_col})\n",
    "# Se cambian los indices a los nombres del sector\n",
    "Pry_int.index = colnamesPry['Sectores']\n",
    "Nic_int.index = colnamesNic['Sectores']\n",
    "Nic_ext.index = colnamesNic['Sectores']\n",
    "Pry_ext.index = colnamesPry['Sectores']\n",
    "\n",
    "#Concateno las submatrices para crear mi A\n",
    "A_Pry = pd.concat([Pry_int,Nic_ext])\n",
    "A_Nic = pd.concat([Pry_ext,Nic_int])\n",
    "A = pd.concat([A_Pry,A_Nic], axis=1)\n",
    "\n",
    "print(A)\n"
   ]
  },
  {
   "cell_type": "markdown",
   "id": "9631217e-8f07-4bb4-aa3f-10e504507443",
   "metadata": {},
   "source": [
    "- Calculamos los coeficientes tecnicos para cada bloque:"
   ]
  },
  {
   "cell_type": "code",
   "execution_count": 13,
   "id": "4331fe34-bc30-4dc3-9ca4-dc81ca0d652b",
   "metadata": {},
   "outputs": [],
   "source": [
    "#Creo los vectores de produccion total para luego usar como P en la formula A = ZP^(-1)\n",
    "Pry_out = Pry[\"Output\"]\n",
    "Pry_out = Pry_out.replace(0,1) #remplazo 0 por 1\n",
    "Nic_out = Nic[\"Output\"]\n",
    "Nic_out = Nic_out.replace(0,1) #remplazo 0 por 1\n",
    "\n",
    "#Coef intra-regionales\n",
    "cT_NxN = f.coefTec (Nic_int,Nic_out)\n",
    "cT_PxP = f.coefTec (Pry_int,Pry_out)\n",
    "\n",
    "#Coef intre-regionales\n",
    "cT_NxP = f.coefTec (Nic_int,Pry_out)\n",
    "cT_PxN = f.coefTec (Pry_int,Nic_out)\n"
   ]
  },
  {
   "cell_type": "markdown",
   "id": "5bd533ab-ea02-41f7-8634-8210ba1be0e1",
   "metadata": {},
   "source": [
    "- Simulacion de shock:"
   ]
  },
  {
   "cell_type": "code",
   "execution_count": 15,
   "id": "ef078ac5-ef5e-4f0d-8e73-ced329932775",
   "metadata": {},
   "outputs": [
    {
     "data": {
      "text/plain": [
       "<Axes: title={'center': 'Simulación de shock'}, xlabel='Sectores'>"
      ]
     },
     "execution_count": 15,
     "metadata": {},
     "output_type": "execute_result"
    },
    {
     "data": {
      "image/png": "[encoded data removed]",
      "text/plain": [
       "<Figure size 2000x500 with 1 Axes>"
      ]
     },
     "metadata": {},
     "output_type": "display_data"
    }
   ],
   "source": [
    "P1 = pd.concat([Pry_out,Nic_out]) #Vector P\n",
    "P1.index = colnames['Sectores']\n",
    "\n",
    "P2 = P1.copy() #Vector P2 con las variaciones del shock aplicadas\n",
    "P2['PRYs5'] = P2['PRYs5']*0.9\n",
    "P2['PRYs6'] = P2['PRYs6']*1.033\n",
    "P2['PRYs7'] = P2['PRYs7']*1.033\n",
    "P2['PRYs8'] = P2['PRYs8']*1.033\n",
    "\n",
    "D1 = f.Leont2Reg(A,P1) # Demanda para las dos regiones originales\n",
    "D2 = f.Leont2Reg(A,P2) # Demanda para las dos regiones con los shocks aplicados\n",
    "\n",
    "df = pd.DataFrame({'Original':D1,'Variación':D2},index = colnames['Sectores'])\n",
    "df.plot.bar(rot = 90,title ='Simulación de shock',figsize=(20, 5))"
   ]
  }
 ],
 "metadata": {
  "kernelspec": {
   "display_name": "Python 3 (ipykernel)",
   "language": "python",
   "name": "python3"
  },
  "language_info": {
   "codemirror_mode": {
    "name": "ipython",
    "version": 3
   },
   "file_extension": ".py",
   "mimetype": "text/x-python",
   "name": "python",
   "nbconvert_exporter": "python",
   "pygments_lexer": "ipython3",
   "version": "3.12.4"
  }
 },
 "nbformat": 4,
 "nbformat_minor": 5
}
