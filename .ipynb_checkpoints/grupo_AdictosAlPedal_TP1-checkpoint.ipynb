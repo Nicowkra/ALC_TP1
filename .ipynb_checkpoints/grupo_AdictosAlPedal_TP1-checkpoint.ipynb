{
 "cells": [
  {
   "cell_type": "markdown",
   "id": "5c0cbb93-2880-4750-975d-11cce9f6b12c",
   "metadata": {},
   "source": [
    "# Trabajo Práctico 1 - Matrices de Insumo Producto\n",
    "\n",
    "## Enunciado"
   ]
  },
  {
   "cell_type": "markdown",
   "id": "11f7face-a325-4e30-b13e-0c3d84280c5e",
   "metadata": {},
   "source": [
    "### Consigna 1 - Analizar que sucede con la solución del sistema $p=(I-A)^{-1}d=Ld$"
   ]
  },
  {
   "cell_type": "markdown",
   "id": "e69c407d-9132-421c-8d02-508da3bb3ae6",
   "metadata": {},
   "source": [
    "Esta ecuación vemos que representa una economía cerrada, ya que no aparece la demanda externa en la ecuación. Ademas, sabemos que la matriz (I-A), matriz de Leontief muestra como el cambio en demanda final modifica o afecta los valores de producción y demanda de insumos. \n",
    "\n",
    "$\\textbf{(I-A) inversible} \\rightarrow$ Si la matriz es singular, podemos decir que las columnas o filas son linealmente independientes, es decir que no hay un sector que sea combinacion lineal de otro. Existe unica solución (Sistema Compatible Determinado) que permite calcular el efecto total en la economía de un cambio en la demanda final. \n",
    "\n",
    "$\\textbf{(I-A) inversible y d=0} \\rightarrow$ Si mi demanda interna es cero, mi produccion sera cero, ya que no tengo una demanda para satisfacer.\n",
    "\n",
    "$\\textbf{(I-A) no inversible} \\rightarrow$ Que la matriz sea singular significa que sus columnas o filas no son linealmente independientes entre si. Esto podria indicar que algun sector o varios sectores son combinacion lineal de otros sectores, que el sistema está mal condicionado, o que algunos sectores dependen completamente de otros. Ademas, no tengo una unica solucion a mi sistema, pudiendo ser compatible indeterminado o incompatible. No se muy bien como cambia la economia con una modificacion en la demanda.\n",
    "\n",
    "$\\textbf{(I-A) no inversible y b=0} \\rightarrow$ Si bien no tengo una unica solucion al sistema, pudiendo ser compatible indeterminado o incompatible, podria ser cualquiera de los dos. Todos los sectores estarian inactivos porque no hay demanda final que satisfacer y ademas los sectores son dependientes entre si"
   ]
  },
  {
   "cell_type": "markdown",
   "id": "c8780d1c",
   "metadata": {},
   "source": [
    "### Realizamos todos los import necesarios que utilizaremos más adelante"
   ]
  },
  {
   "cell_type": "code",
   "execution_count": 7,
   "id": "260b913f-d6d3-47b8-9431-7a64d6d037a5",
   "metadata": {},
   "outputs": [],
   "source": [
    "import funciones as f\n",
    "import pandas as pd\n",
    "import numpy as np\n",
    "import scipy.linalg as sc"
   ]
  },
  {
   "cell_type": "markdown",
   "id": "7eb275f8",
   "metadata": {},
   "source": [
    "### Consigna 2-"
   ]
  },
  {
   "cell_type": "markdown",
   "id": "8fd874a5",
   "metadata": {},
   "source": [
    "Para calcular la inversa de la matriz I-A utilizamos la descomposicion LU que se realiza en la funcion calcularLU NADI DESPUES SEGUILO\n"
   ]
  },
  {
   "cell_type": "markdown",
   "id": "b6527567-ea14-4fb0-8cbb-3faa67fee8c1",
   "metadata": {},
   "source": [
    "---"
   ]
  },
  {
   "cell_type": "markdown",
   "id": "6ef73321-e717-4ba0-b146-dbcff58f3c9c",
   "metadata": {},
   "source": [
    "### Consigna 3 -  "
   ]
  },
  {
   "cell_type": "markdown",
   "id": "0e45627f-1ec7-4d59-8d2f-8771755a5730",
   "metadata": {},
   "source": [
    "$$\n",
    "A = \\begin{pmatrix}\n",
    "0.3 & 0.0 & 0.1 \\\\\n",
    "0.05 & 1.0 & 0.2 \\\\\n",
    "0.1 & 0.15 & 0.1\n",
    "\\end{pmatrix},\\quad\n",
    "d = \\begin{pmatrix}\n",
    "100\\\\\n",
    "100\\\\\n",
    "300\n",
    "\\end{pmatrix}\n",
    "$$\n",
    "Respondiendo lo siguiente:\n",
    "\n",
    "$ \\blacksquare $ ¿Hay una justificación económica de los valores encontrados para $p$?\n",
    "\n",
    "$ \\blacksquare $ ¿Cuál es la característica de la matriz que lleva a esta solución?\n",
    "\n",
    "\n",
    "El problema es que para crear una unidad de $ p_{2} $ se consume una unidad de $ p_{2} $ y 0.15 de $ p_{3} $, consumiendo más de lo que se produce, haciendo que sea inviable no solo satisfacer la demanda externa, sino que la demanda interna también. Esto repercute de manera que cuando calculamos con la matriz de Leontief la cantidad total que se tiene que producir para satisfacer todas las demandas, nos da números negativos, ya que al querer satisfacer la demanda externa se baja la producciòn $ p_{2} $ por su alto coste, haciendo que parar satisfacer la demanda $d$ se tenga que \"producir\" unidades negativas tanto en $ p_{2} $ como en $ p_{3} $, ya que al querer disminuir la producción en $ p_{2} $ también lo haces en $ p_{3} $.\n",
    "\n",
    "$$\n",
    "p = \\begin{pmatrix}\n",
    "68.96 \\\\\n",
    "-5149.43 \\\\\n",
    "-517.24\n",
    "\\end{pmatrix}, \\quad\n",
    "p' = \\begin{pmatrix}\n",
    "-2307.69 \\\\\n",
    "-11487.18 \\\\\n",
    "79.92\n",
    "\\end{pmatrix}\n",
    "$$\n",
    "\n",
    "\n",
    "\n",
    "Esto se ve de mejor manera si nos fijamos en los valores $ a_{12} $ y $ a_{32} $ de la matriz $ A $, ya que si intercambias los valores y calculamos de nuevo la cantidad que debemos producir para satisfacer la demanda $ (p') $, te da valores negativos en $ p_{1} $ y $ p_{2} $, ya que al querer disminuir la producción en $ p_{2} $, también lo haces en $ p_{1} $. En general, los valores de la segunda columna (coste de producción de una unidad de $ p_{2} $) son los responsables de que $ p_{12} $ y $ p_{13} $ sean negativos."
   ]
  },
  {
   "cell_type": "markdown",
   "id": "580225a3-88ec-4eff-a5f5-05341c6b8708",
   "metadata": {},
   "source": [
    "---"
   ]
  },
  {
   "cell_type": "markdown",
   "id": "977fec75-8e09-441a-81f4-9c99516981d4",
   "metadata": {},
   "source": [
    "### Consigna 4 -  \n",
    "Analizar analı́ticamente qué sucede con la producción total cuando a partir de una demanda externa $d$, la demanda externa para el producto 3 cambia en un $\\triangle d$. La demanda externa se convierte en:\n",
    "\n",
    "$$\n",
    "d´= d + \n",
    "\\begin{pmatrix}\n",
    "0 \\\\\n",
    "0 \\\\\n",
    "1\n",
    "\\end{pmatrix}\n",
    "$$\n",
    "\n",
    "Obtener la expresión del vector $\\triangle p$ correspondiente a este ejemplo."
   ]
  },
  {
   "cell_type": "markdown",
   "id": "087f4e3c-246f-4e99-a48d-274b02446ca8",
   "metadata": {},
   "source": [
    "$$\n",
    "\\triangle p =  p' - p\n",
    "$$\n",
    "\n",
    "$$\n",
    "\\triangle p = (I - A)^{-1} \\cdot d' - (I - A)^{-1} \\cdot d\n",
    "$$\n",
    "\n",
    "$$\n",
    "\\triangle p = (I - A)^{-1} \\cdot (d' - d)\n",
    "$$\n",
    "\n",
    "$$\n",
    "\\triangle p = (I - A)^{-1} \\cdot \\left( d + \\begin{pmatrix}\n",
    "0 \\\\\n",
    "0 \\\\\n",
    "1\n",
    "\\end{pmatrix} - d \\right)\n",
    "$$\n",
    "\n",
    "$$\n",
    "\\triangle p = L \\cdot \\begin{pmatrix}\n",
    "0 \\\\\n",
    "0 \\\\\n",
    "1\n",
    "\\end{pmatrix}\n",
    "$$\n",
    "\n",
    "\n",
    "\n",
    "\n",
    "\n",
    "\n",
    "Un cambio en la demanda externa del tercer factor significaría necesariamente un cambio en la cantidad necesaria de productos para satisfacer la demanda en general ($p$) ya que la matriz de Leontief es una matriz inversa, por lo tanto no puede tener una fila con solo valores igual a 0, por lo tanto la diferencia entre p´ y p es necesariamente diferente a el vector 0. El cambio en la producción de cada sector dependerá en los valores que tenga en cada celda, ya que si por algún motivo no se pudiera satisfacer la demanda interno o un producto se consume a si mismo cuando se produce (como en la consigna anterior) podrían aparecer valores negativos, neutros o positivos, así que no se puede predecir más que cambiara $p$."
   ]
  },
  {
   "cell_type": "markdown",
   "id": "8d516c56-9373-4500-93e9-73d774f417a3",
   "metadata": {},
   "source": [
    "---"
   ]
  },
  {
   "cell_type": "markdown",
   "id": "51fb9520-3c91-4b83-9045-38b5aac9f612",
   "metadata": {},
   "source": [
    "### Consigna 5 -"
   ]
  },
  {
   "cell_type": "markdown",
   "id": "2e1a1dd3-dd30-4ced-81a5-d0e9336a54b2",
   "metadata": {},
   "source": [
    "- Con los datos dados, sabemos la matriz Z y el vector P"
   ]
  },
  {
   "cell_type": "code",
   "execution_count": 21,
   "id": "4d3a6d20-dee6-478c-b3c5-02901d584750",
   "metadata": {},
   "outputs": [
    {
     "ename": "AttributeError",
     "evalue": "module 'funciones' has no attribute 'construirZyP'",
     "output_type": "error",
     "traceback": [
      "\u001b[1;31m---------------------------------------------------------------------------\u001b[0m",
      "\u001b[1;31mAttributeError\u001b[0m                            Traceback (most recent call last)",
      "\u001b[1;32m~\\AppData\\Local\\Temp\\ipykernel_6624\\2178386684.py\u001b[0m in \u001b[0;36m<module>\u001b[1;34m\u001b[0m\n\u001b[1;32m----> 1\u001b[1;33m \u001b[0mf\u001b[0m\u001b[1;33m.\u001b[0m\u001b[0mconstruirZyP\u001b[0m\u001b[1;33m(\u001b[0m\u001b[1;33m)\u001b[0m\u001b[1;33m\u001b[0m\u001b[1;33m\u001b[0m\u001b[0m\n\u001b[0m",
      "\u001b[1;31mAttributeError\u001b[0m: module 'funciones' has no attribute 'construirZyP'"
     ]
    }
   ],
   "source": [
    "f.construirZyP()"
   ]
  },
  {
   "cell_type": "markdown",
   "id": "c425856e",
   "metadata": {},
   "source": [
    "### Consigna 6 - \n",
    "Partimos del siguiente sistema que sabemos que es valido:\n",
    "\n",
    "$$\n",
    "    \\left( \n",
    "    \\begin{pmatrix}\n",
    "    I_{n \\times n} & 0_{n \\times m} \\\\\n",
    "    0_{m \\times n} & I_{m \\times m}\n",
    "    \\end{pmatrix} \n",
    "    -\n",
    "    \\begin{pmatrix}\n",
    "    A^{rr} & A^{rs} \\\\\n",
    "    A^{sr} & A^{ss}\n",
    "    \\end{pmatrix}\n",
    "    \\right)\n",
    "    \\begin{pmatrix}\n",
    "    p^{r} \\\\\n",
    "    p^{s}\n",
    "    \\end{pmatrix}\n",
    "    =\n",
    "    \\begin{pmatrix}\n",
    "    d^{r} \\\\\n",
    "    d^{s}\n",
    "    \\end{pmatrix}\n",
    "$$\n",
    "\n",
    "\\begin{equation} \n",
    "    \\begin{pmatrix}\n",
    "    I_{n \\times n} - A^{rr} & - A^{rs} \\\\\n",
    "    - A^{sr} & I_{m \\times m} - A^{ss}\n",
    "    \\end{pmatrix} \n",
    "    \\begin{pmatrix}\n",
    "    p^{r} \\\\\n",
    "    p^{s}\n",
    "    \\end{pmatrix}\n",
    "    =\n",
    "    \\begin{pmatrix}\n",
    "    d^{r} \\\\\n",
    "    d^{s}\n",
    "    \\end{pmatrix}\n",
    "\\end{equation}\n",
    "\n",
    "Veamos como varia la produccion($\\triangle$ p) al efectuar una variacion en la demanda ($\\triangle$ d)\n",
    "\n",
    "$$\n",
    "    \\begin{pmatrix}\n",
    "    I_{n \\times n} - A^{rr} & - A^{rs} \\\\\n",
    "    - A^{sr} & I_{m \\times m} - A^{ss}\n",
    "    \\end{pmatrix} \n",
    "    \\begin{pmatrix}\n",
    "    p^{r} + \\triangle p^{r} \\\\\n",
    "    p^{s} + \\triangle p^{s}\n",
    "    \\end{pmatrix}\n",
    "    =\n",
    "    \\begin{pmatrix}\n",
    "    d^{r} + \\triangle d^{r}\\\\\n",
    "    d^{s} + \\triangle d^{s}\n",
    "    \\end{pmatrix}\n",
    "$$   \n",
    "\n",
    "Desarrollamos la ecuacion para obtener una expresion equivalente:\n",
    "\n",
    "$$\n",
    "    \\begin{pmatrix}\n",
    "    I_{n \\times n} - A^{rr} & - A^{rs} \\\\\n",
    "    - A^{sr} & I_{m \\times m} - A^{ss}\n",
    "    \\end{pmatrix} \n",
    "    \\begin{pmatrix}\n",
    "    p^{r} \\\\\n",
    "    p^{s}\n",
    "    \\end{pmatrix}\n",
    "    +\n",
    "    \\begin{pmatrix}\n",
    "    I_{n \\times n} - A^{rr} & - A^{rs} \\\\\n",
    "    - A^{sr} & I_{m \\times m} - A^{ss}\n",
    "    \\end{pmatrix} \n",
    "    \\begin{pmatrix}\n",
    "    \\triangle p^{r} \\\\\n",
    "    \\triangle p^{s}\n",
    "    \\end{pmatrix}\n",
    "    =\n",
    "    \\begin{pmatrix}\n",
    "    d^{r}\\\\\n",
    "    d^{s}\n",
    "    \\end{pmatrix}\n",
    "    +\n",
    "    \\begin{pmatrix}\n",
    "    \\triangle d^{r}\\\\\n",
    "    \\triangle d^{s}\n",
    "    \\end{pmatrix}\n",
    "$$ \n",
    "\n",
    "Como sabemos que la ecuacion(1) es siempre valida, se la restamos a esta ultima expresion que conseguimos para poder simplificarla\n",
    "\n",
    "$$\n",
    "    \\begin{pmatrix}\n",
    "    I_{n \\times n} - A^{rr} & - A^{rs} \\\\\n",
    "    - A^{sr} & I_{m \\times m} - A^{ss}\n",
    "    \\end{pmatrix} \n",
    "    \\begin{pmatrix}\n",
    "    \\triangle p^{r} \\\\\n",
    "    \\triangle p^{s}\n",
    "    \\end{pmatrix}\n",
    "    =\n",
    "    \\begin{pmatrix}\n",
    "    \\triangle d^{r}\\\\\n",
    "    \\triangle d^{s}\n",
    "    \\end{pmatrix}\n",
    "$$ \n",
    "\n",
    "Recordando que en el enunciado nos dicen que tomemos $\\triangle d^{s} = 0$, obtenemos entonces el siguiente sistema de ecuaciones \n",
    "$$\n",
    "\\left\\{\n",
    "\\begin{array}{l}\n",
    "(I - A^{rr}) \\triangle p^{r} - A^{rs} \\triangle p^{s} = \\triangle d^{r} (1)\\\\\n",
    "-A^{sr} p^{r} + (I - A^{ss}) \\triangle p^{s} = 0 (2)\n",
    "\\end{array}\n",
    "\\right.\n",
    "$$\n",
    "\n",
    "De la ecuacion (2) despejamos $\\triangle p^{s}$\n",
    "\n",
    "$$\n",
    "\\triangle p^{s} = (I - A^{ss})^{-1}A^{sr} p^{r}\n",
    "$$\n",
    "\n",
    "Reemplazamos $\\triangle p^{s}$ en la ecuacion (1) y despejamos $\\triangle p^{r}$\n",
    "\n",
    "$$\n",
    "\\begin{aligned}\n",
    "(I - A^{(rr)}) \\triangle p^{(r)} - A^{(rs)}(I - A^{(ss)})^{-1}A^{(sr)} \\triangle p^{(r)} &= \\triangle d^{(r)} \\\\\n",
    "(I - A^{(rr)} - A^{(rs)}(I - A^{(ss)})^{-1} A^{(sr)}) \\triangle p^{(r)} &= \\triangle d^{(r)} \\\\\n",
    "\\triangle p^{(r)} &= (I - A^{(rr)} - A^{(rs)}(I - A^{(ss)})^{-1} A^{(sr)})^{-1} \\triangle d^{(r)}\n",
    "\\end{aligned}\n",
    "$$\n",
    "\n",
    "\n"
   ]
  },
  {
   "cell_type": "markdown",
   "id": "19403a3c-422b-4bdb-85b3-058b90560067",
   "metadata": {},
   "source": [
    "---"
   ]
  },
  {
   "cell_type": "markdown",
   "id": "28b50883-236a-44de-b3f3-4a057123f51f",
   "metadata": {},
   "source": [
    "### Consigna 7 -"
   ]
  },
  {
   "cell_type": "markdown",
   "id": "e7817a5c-f774-4e0d-a4cf-e4150e13aaef",
   "metadata": {},
   "source": [
    "- Generamos la matriz Insumo-Producto de Paraguay y Nicaragua recortando el DataFrame original por las filas que tienen en la columna \"Country_iso3\" el pais deseado, esto nos da las tablas de Paraguay y Nicaragua, luego buscamos en estas tablas solo las columnas que sean de los sectores de Nicaragua o Paraguay dependiendo si queremos la matriz regional interna (su relacion consigo misma) o la externa (su relacion con el otro pais).  \n",
    "  Esto nos deja con las submatrices $A_{pp}$, $A_{pn}$, $A_{np}$, $A_{nn}$ y las concatenamos para obtener la matriz:\n",
    "  $$ \n",
    "    A = \\begin{pmatrix}\n",
    "    A_{pp} & A_{pn} \\\\\n",
    "    A_{np} & A_{nn}\n",
    "    \\end{pmatrix}\n",
    "    $$\n",
    "  "
   ]
  },
  {
   "cell_type": "code",
   "execution_count": 3,
   "id": "41998105-1ef2-45f0-adba-86bc56cd20a9",
   "metadata": {},
   "outputs": [],
   "source": [
    "matriz = pd.read_excel(\"matriz.xlsx\", sheet_name =\"LAC_IOT_2011\",)\n",
    "A = f.crearMatrizA(matriz)"
   ]
  },
  {
   "cell_type": "markdown",
   "id": "9631217e-8f07-4bb4-aa3f-10e504507443",
   "metadata": {},
   "source": [
    "- Calculamos los coeficientes tecnicos para cada bloque usando la formula\n",
    "$A = ZP^{-1}\n",
    "$\n",
    "- Donde Z es la matriz regional interna al que le vamos a calcular sus coeficientes regionales, y P es la produccion total de su propia region si es intra-regional, o la produccion total del otro pais si es intre-regional.  \n",
    "Z ya lo habiamos conseguido cuando buscamos la matriz Insumo-Producto y P es la diagonalización de la columna \"Output\" del pais pedido"
   ]
  },
  {
   "cell_type": "code",
   "execution_count": 13,
   "id": "4331fe34-bc30-4dc3-9ca4-dc81ca0d652b",
   "metadata": {},
   "outputs": [],
   "source": [
    "#Coef intra-regionales\n",
    "f.coefTec (\"Nic\",\"Nic\")\n",
    "f.coefTec (\"Pry\",\"Pry\")\n",
    "#Coef intre-regionales\n",
    "f.coefTec (\"Nic\",\"Pry\")\n",
    "f.coefTec (\"Pry\",\"Nic\")"
   ]
  },
  {
   "cell_type": "markdown",
   "id": "5bd533ab-ea02-41f7-8634-8210ba1be0e1",
   "metadata": {},
   "source": [
    "- Simulamos el shock  usando el modelo de Leontief para dos regiones\n",
    "\n",
    "$$\n",
    "    \\left( \n",
    "    \\begin{pmatrix}\n",
    "    I_{n \\times n} & 0_{n \\times m} \\\\\n",
    "    0_{m \\times n} & I_{m \\times m}\n",
    "    \\end{pmatrix} \n",
    "    -\n",
    "    \\begin{pmatrix}\n",
    "    A^{rr} & A^{rs} \\\\\n",
    "    A^{sr} & A^{ss}\n",
    "    \\end{pmatrix}\n",
    "    \\right)\n",
    "    \\begin{pmatrix}\n",
    "    p^{r} \\\\\n",
    "    p^{s}\n",
    "    \\end{pmatrix}\n",
    "    =\n",
    "    \\begin{pmatrix}\n",
    "    d^{r} \\\\\n",
    "    d^{s}\n",
    "    \\end{pmatrix}\n",
    "$$  \n",
    "Calculamos con el modelo un D, donde la matriz I la podemos generar de la misma dimension que A, A es la matriz que Insumo-Producto, y el vector P lo podemos crear concatenando los dos vectores de la columna \"Output\" de cada pais.  \n",
    "Luego aplicamos los shocks a cada sector pedido para tener un D', y con esto conseguir $\\triangle$D.  \n",
    "Teniendo $\\triangle$D, podemos buscar $\\triangle$P con la ecuacion de variacion de produccion considerando las relaciones inter-regionales  \n",
    "$$ \n",
    "\\begin{aligned}\n",
    "\\triangle p^{(r)} &= (I - A^{(rr)} - A^{(rs)}(I - A^{(ss)})^{-1} A^{(sr)})^{-1} \\triangle d^{(r)} \n",
    "\\end{aligned}\n",
    "$$\n"
   ]
  },
  {
   "cell_type": "code",
   "execution_count": 5,
   "id": "ef078ac5-ef5e-4f0d-8e73-ced329932775",
   "metadata": {},
   "outputs": [
    {
     "data": {
      "image/png": "[encoded data removed]",
      "text/plain": [
       "<Figure size 2000x500 with 1 Axes>"
      ]
     },
     "metadata": {},
     "output_type": "display_data"
    }
   ],
   "source": [
    "f.shock()"
   ]
  }
 ],
 "metadata": {
  "kernelspec": {
   "display_name": "Python 3 (ipykernel)",
   "language": "python",
   "name": "python3"
  },
  "language_info": {
   "codemirror_mode": {
    "name": "ipython",
    "version": 3
   },
   "file_extension": ".py",
   "mimetype": "text/x-python",
   "name": "python",
   "nbconvert_exporter": "python",
   "pygments_lexer": "ipython3",
   "version": "3.9.13"
  }
 },
 "nbformat": 4,
 "nbformat_minor": 5
}
